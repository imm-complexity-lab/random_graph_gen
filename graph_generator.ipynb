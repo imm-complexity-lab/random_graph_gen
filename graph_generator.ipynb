{
 "cells": [
  {
   "cell_type": "code",
   "execution_count": 2,
   "metadata": {},
   "outputs": [],
   "source": [
    "import networkx as nx\n",
    "import random\n",
    "import math\n",
    "import matplotlib\n",
    "import pickle\n",
    "from matplotlib import pyplot as plt\n",
    "from random import shuffle\n",
    "from copy import deepcopy\n",
    "import numpy as np\n",
    "import time\n",
    "import sys\n",
    "import numpy as np\n",
    "\n",
    "%matplotlib inline"
   ]
  },
  {
   "cell_type": "code",
   "execution_count": 2,
   "metadata": {},
   "outputs": [
    {
     "name": "stdout",
     "output_type": "stream",
     "text": [
      "2.1\n",
      "2.1.2\n"
     ]
    }
   ],
   "source": [
    "print(nx.__version__)\n",
    "print(matplotlib.__version__)"
   ]
  },
  {
   "cell_type": "code",
   "execution_count": 6,
   "metadata": {},
   "outputs": [],
   "source": [
    "num_of_nodes = 100"
   ]
  },
  {
   "cell_type": "markdown",
   "metadata": {},
   "source": [
    "# Functions"
   ]
  },
  {
   "cell_type": "code",
   "execution_count": 4,
   "metadata": {},
   "outputs": [],
   "source": [
    "def get_ab(alpha1, alpha2, betta1, betta1_packet):\n",
    "    random.seed()\n",
    "    if alpha1 == -1000:\n",
    "        alpha1 = random.random() * math.pi * 0.5\n",
    "    \n",
    "    random.seed()\n",
    "    if alpha2 == -1000:\n",
    "        alpha2 = random.random() * math.pi * 0.5\n",
    "    \n",
    "    x = random.randint(0, 1)\n",
    "    if betta1 == -1000:\n",
    "        betta_temp = random.randint(1, (num_of_nodes-1))\n",
    "        if x == 0:\n",
    "            betta1 = betta_temp\n",
    "        else:\n",
    "            betta1 = - betta_temp * math.tan(alpha1)\n",
    "    else:\n",
    "        betta_temp = betta1_packet[0]\n",
    "        x = betta1_packet[1]\n",
    "        if x == 1:\n",
    "            betta1 = - betta_temp * math.tan(alpha1)\n",
    "        else:\n",
    "            betta1 = betta_temp\n",
    "    \n",
    "    return alpha1, betta1, alpha2, betta_temp, x"
   ]
  },
  {
   "cell_type": "code",
   "execution_count": 5,
   "metadata": {},
   "outputs": [],
   "source": [
    "def swap(arr, i):\n",
    "    while 1==1:\n",
    "        j = random.randint(0, len(arr)-1)\n",
    "        if j != i:\n",
    "            k = arr[i]\n",
    "            arr[i] = arr[j]\n",
    "            arr[j] = k\n",
    "            break"
   ]
  },
  {
   "cell_type": "code",
   "execution_count": 6,
   "metadata": {},
   "outputs": [],
   "source": [
    "def get_list_of_values(alpha, betta, x0, xN, num_of_nodes):\n",
    "    f_values = []\n",
    "    x_min = max([0, x0])\n",
    "    x_max = min([num_of_nodes, xN])\n",
    "    for i in range(0, num_of_nodes):\n",
    "        f = i * math.tan(alpha) + betta\n",
    "        if i < x_min:\n",
    "            f_values.append(1)\n",
    "        elif i > x_max:\n",
    "            f_values.append(num_of_nodes - 1)\n",
    "        else:\n",
    "            f_values.append(int(f))\n",
    "    return f_values\n",
    "        \n",
    "\n",
    "def get_area(alpha, betta, num_of_nodes):\n",
    "    x0 = (1 - betta) / math.tan(alpha)\n",
    "    xN = (num_of_nodes - 1 - betta) / math.tan(alpha)\n",
    "    #print(x0, xN)\n",
    "    f_val = get_list_of_values(alpha, betta, x0, xN, num_of_nodes)\n",
    "    s = 0\n",
    "    for i in range(0, num_of_nodes):\n",
    "        s = s + f_val[i]\n",
    "    return s, f_val"
   ]
  },
  {
   "cell_type": "code",
   "execution_count": 8,
   "metadata": {},
   "outputs": [],
   "source": [
    "def fill_edges_array(f_val):\n",
    "    edges_array = []\n",
    "    \n",
    "    elements = list(range(len(f_val)))\n",
    "    shuffle(elements)\n",
    "    \n",
    "    for i in range(len(f_val)):\n",
    "        for j in range(f_val[i]):\n",
    "            edges_array.append(elements[i]) # i\n",
    "    return edges_array\n",
    "\n",
    "\n",
    "def outgoing_ingoing_random_swap(predicted_dict):\n",
    "    swap = random.randint(0,1)\n",
    "    if swap == 1:\n",
    "        fval1 = deepcopy(predicted_dict['f_val1'])\n",
    "        fval2 = deepcopy(predicted_dict['f_val2'])\n",
    "        predicted_dict['f_val1'] = fval2\n",
    "        predicted_dict['f_val2'] = fval1\n",
    "        alpha1 = predicted_dict['alpha1']\n",
    "        alpha2 = predicted_dict['alpha2']\n",
    "        betta1 = predicted_dict['betta1']\n",
    "        betta2 = predicted_dict['betta2']\n",
    "        predicted_dict['alpha1'] = alpha2\n",
    "        predicted_dict['alpha2'] = alpha1\n",
    "        predicted_dict['betta1'] = betta2\n",
    "        predicted_dict['betta2'] = betta1\n",
    "        return 1\n",
    "    else:\n",
    "        return 0"
   ]
  },
  {
   "cell_type": "markdown",
   "metadata": {},
   "source": [
    "# Random Plots graph generator"
   ]
  },
  {
   "cell_type": "code",
   "execution_count": 7,
   "metadata": {},
   "outputs": [],
   "source": [
    "# Generate dict for prediction of degree distributions\n",
    "\n",
    "def get_predicted(num_of_nodes, alpha1=-1000, alpha2=-1000, betta1=-1000, betta1_packet = []):\n",
    "    alpha1_initial = alpha1\n",
    "    alpha2_initial = alpha2\n",
    "    betta1_initial = betta1\n",
    "    betta1_packet_initial = betta1_packet\n",
    "    output_dict = {}\n",
    "    previous = 100.0\n",
    "    while 1==1:\n",
    "        alpha1, betta1, alpha2, betta_temp, x = get_ab(alpha1_initial, alpha2_initial, betta1_initial, betta1_packet_initial)\n",
    "        s1, f_val1 = get_area(alpha1, betta1, num_of_nodes)\n",
    "\n",
    "        betta2 = 0\n",
    "        s2 = 0\n",
    "        f_val2 = []\n",
    "        min_diff = num_of_nodes * num_of_nodes\n",
    "\n",
    "        for _betta2 in range(1, num_of_nodes):\n",
    "            _s2, _f_val2 = get_area(alpha2, _betta2, num_of_nodes)\n",
    "            if min_diff > abs(_s2 - s1):\n",
    "                min_diff = abs(_s2 - s1)\n",
    "                betta2 = _betta2\n",
    "                s2 = _s2\n",
    "                f_val2 = _f_val2\n",
    "\n",
    "        for _betta2_temp in range(1, num_of_nodes):\n",
    "            _betta2 = - _betta2_temp * math.tan(alpha2)\n",
    "            _s2, _f_val2 = get_area(alpha2, _betta2, num_of_nodes)\n",
    "            if min_diff > abs(_s2 - s1):\n",
    "                min_diff = abs(_s2 - s1)\n",
    "                betta2 = _betta2\n",
    "                s2 = _s2\n",
    "                f_val2 = _f_val2\n",
    "        if (s2 != 0) and (s1 != 0):\n",
    "            return {'alpha1':alpha1, 'betta1':betta1, 'alpha2':alpha2, 'betta2':betta2,\\\n",
    "                    'betta_temp':betta_temp, 'x':x,\\\n",
    "                    'f_val1':f_val1, 'f_val2':f_val2}"
   ]
  },
  {
   "cell_type": "code",
   "execution_count": 9,
   "metadata": {},
   "outputs": [],
   "source": [
    "# Generate graph using prediction dict\n",
    "\n",
    "def get_fact(predicted_dict, num_of_nodes):\n",
    "    G = nx.connected_watts_strogatz_graph(num_of_nodes, 5, 0.1)\n",
    "\n",
    "    edgelist = list(G.edges())\n",
    "    G = nx.DiGraph()\n",
    "    \n",
    "    random_swap = outgoing_ingoing_random_swap(predicted_dict)\n",
    "\n",
    "    outgoing = fill_edges_array(predicted_dict['f_val1'])\n",
    "    ingoing = fill_edges_array(predicted_dict['f_val2'])\n",
    "    edge_counter = 0\n",
    "    iter_counter = 0\n",
    "\n",
    "    shuffle(outgoing)\n",
    "    shuffle(ingoing)\n",
    "    counter = 0\n",
    "    i = 0\n",
    "    edge_number = min(len(outgoing), len(ingoing))\n",
    "    \n",
    "    _outgoing = outgoing[:edge_number]\n",
    "    _ingoing = ingoing[:edge_number]\n",
    "    \n",
    "    counter_add_fail = 0\n",
    "    counter_add_succ = 0\n",
    "    counter_repeat = 0\n",
    "    num_of_elements = edge_number\n",
    "    edge_addition = True\n",
    "    while edge_addition:\n",
    "        counter_add_fail = 0\n",
    "        edge_addition = False\n",
    "        _outgoing_new = []\n",
    "        _ingoing_new = []\n",
    "        num_of_elements = len(_outgoing)\n",
    "        for i in range(num_of_elements):\n",
    "            pos = i\n",
    "            u = _outgoing[pos]\n",
    "            v = _ingoing[pos]\n",
    "            if (not G.has_edge(u, v)) and (u != v):\n",
    "                G.add_edge(u, v)\n",
    "                counter_add_succ += 1\n",
    "                edge_addition = True\n",
    "            else:\n",
    "                counter_add_fail += 1\n",
    "                _outgoing_new.append(u)\n",
    "                _ingoing_new.append(v)\n",
    "        if counter_add_fail > 0:\n",
    "            shuffle(_outgoing_new)\n",
    "            shuffle(_ingoing_new)\n",
    "            _outgoing = _outgoing_new\n",
    "            _ingoing = _ingoing_new\n",
    "        counter_repeat += 1\n",
    "                \n",
    "    for j in range(counter_add_fail):\n",
    "        edge_added = False\n",
    "        while not edge_added:\n",
    "            u = outgoing[random.randint(0, edge_number-1)]\n",
    "            v = ingoing[random.randint(0, edge_number-1)]\n",
    "            if (not G.has_edge(u, v)) and (u != v):\n",
    "                G.add_edge(u, v)\n",
    "                edge_added = True\n",
    "    \n",
    "    outgoing_deg = list(dict(G.out_degree()).values())\n",
    "    ingoing_deg = list(dict(G.in_degree()).values())\n",
    "    outgoing_deg.sort()\n",
    "    ingoing_deg.sort()\n",
    "    \n",
    "    outgoing_error_list = []\n",
    "    ingoing_error_list = []\n",
    "    for i in range(len(outgoing_deg)):\n",
    "        outgoing_error_list.append(abs(predicted_dict['f_val1'][i] - outgoing_deg[i]))\n",
    "        ingoing_error_list.append(abs(predicted_dict['f_val2'][i] - ingoing_deg[i]))\n",
    "    outgoing_error = 0\n",
    "    ingoing_error = 0\n",
    "    for i in range(len(outgoing_error_list)):\n",
    "        outgoing_error = outgoing_error + outgoing_error_list[i]\n",
    "        ingoing_error = ingoing_error + ingoing_error_list[i]\n",
    "    \n",
    "    return {'G':G, 'outgoing_deg':outgoing_deg, 'ingoing_deg':ingoing_deg,\\\n",
    "            'swap_counter':counter, 'outgoing_error':outgoing_error, 'ingoing_error':ingoing_error,\\\n",
    "           'num_of_edges':G.number_of_edges(),\\\n",
    "           'random_swap':random_swap}"
   ]
  },
  {
   "cell_type": "markdown",
   "metadata": {},
   "source": [
    "# Demonstration"
   ]
  },
  {
   "cell_type": "code",
   "execution_count": 10,
   "metadata": {
    "scrolled": true
   },
   "outputs": [
    {
     "name": "stdout",
     "output_type": "stream",
     "text": [
      "alpha1: 1.1780972450961724\n",
      "alpha2: 0.39269908169872414\n",
      "betta1: -1414.7291475506336\n",
      "betta_temp: 0\n",
      "x: 0\n",
      "alpha2: 0.39269908169872414\n",
      "betta2: 0\n",
      "\n",
      "random_swap: 1\n",
      "swap_counter: 0\n",
      "outgoing_error: 28169\n",
      "ingoing_error: 27854\n",
      "\n",
      "f_val1: 206774\n",
      "f_val2: 206403\n",
      "number of edges: 206403\n"
     ]
    },
    {
     "data": {
      "text/plain": [
       "[<matplotlib.lines.Line2D at 0x1f918a2b550>]"
      ]
     },
     "execution_count": 10,
     "metadata": {},
     "output_type": "execute_result"
    },
    {
     "data": {
      "image/png": "[encoded data removed]",
      "text/plain": [
       "<matplotlib.figure.Figure at 0x1f9185cca20>"
      ]
     },
     "metadata": {},
     "output_type": "display_data"
    }
   ],
   "source": [
    "# Some tests just to see how it works\n",
    "\n",
    "num_of_nodes = 1000\n",
    "predicted_dict = get_predicted(num_of_nodes,\\\n",
    "                               alpha1=(math.pi/4-math.pi/8),alpha2=(math.pi/4+math.pi/8),\\\n",
    "                               betta1=0, betta1_packet=[0,0])\n",
    "fact_dict = get_fact(predicted_dict, num_of_nodes)\n",
    "\n",
    "print('alpha1:', predicted_dict['alpha1'])\n",
    "print('alpha2:', predicted_dict['alpha2'])\n",
    "print('betta1:', predicted_dict['betta1'])\n",
    "print('betta_temp:', predicted_dict['betta_temp'])\n",
    "print('x:', predicted_dict['x'])\n",
    "print('alpha2:', predicted_dict['alpha2'])\n",
    "print('betta2:', predicted_dict['betta2'])\n",
    "print()\n",
    "print('random_swap:', fact_dict['random_swap'])\n",
    "print('swap_counter:', fact_dict['swap_counter'])\n",
    "print('outgoing_error:', fact_dict['outgoing_error'])\n",
    "print('ingoing_error:', fact_dict['ingoing_error'])\n",
    "print()\n",
    "print('f_val1:', sum(predicted_dict['f_val1']))\n",
    "print('f_val2:', sum(predicted_dict['f_val2']))\n",
    "print('number of edges:', fact_dict['G'].number_of_edges())\n",
    "\n",
    "plt.xlim((0, num_of_nodes))\n",
    "plt.ylim((0, num_of_nodes))\n",
    "plt.plot(predicted_dict['f_val1'], color='grey', linestyle='--')\n",
    "plt.plot(predicted_dict['f_val2'], color='black', linestyle='--')\n",
    "plt.plot(fact_dict['outgoing_deg'], color='grey')\n",
    "plt.plot(fact_dict['ingoing_deg'], color='black')\n",
    "#plt.legend(['Outgoing degrees (pred)', 'Incoming degrees (pred)', 'Outgoing degrees (fact)', 'Incoming degrees (fact)'])"
   ]
  },
  {
   "cell_type": "code",
   "execution_count": 16,
   "metadata": {},
   "outputs": [
    {
     "name": "stdout",
     "output_type": "stream",
     "text": [
      "0.00018207750432434072 0.00041473209318322054\n"
     ]
    },
    {
     "data": {
      "text/plain": [
       "[<matplotlib.lines.Line2D at 0x1f93227aac8>]"
      ]
     },
     "execution_count": 16,
     "metadata": {},
     "output_type": "execute_result"
    },
    {
     "data": {
      "image/png": "[encoded data removed]",
      "text/plain": [
       "<matplotlib.figure.Figure at 0x1f9185d46a0>"
      ]
     },
     "metadata": {},
     "output_type": "display_data"
    }
   ],
   "source": [
    "num_of_nodes = 1000\n",
    "predicted_dict = get_predicted(num_of_nodes,\\\n",
    "                               #alpha1=(math.pi/2 * 0.95),alpha2=(math.pi/2 * 0.9),\\\n",
    "                               #alpha1=(math.pi/4+math.pi/8+math.pi/16),alpha2=(math.pi/4+math.pi/8-math.pi/16),\\\n",
    "                               alpha1=(math.pi/4-math.pi/8-math.pi/16),alpha2=(math.pi/4-math.pi/8+math.pi/16),\\\n",
    "                               #alpha1=(math.pi/32),alpha2=(math.pi/2-math.pi/64),\\\n",
    "                               betta1=0, betta1_packet=[0,0])\n",
    "fact_dict = get_fact(predicted_dict, num_of_nodes)\n",
    "\n",
    "print(fact_dict['outgoing_error'] / fact_dict['G'].number_of_edges(),\n",
    "      fact_dict['ingoing_error'] / fact_dict['G'].number_of_edges())\n",
    "\n",
    "\"\"\"\n",
    "print('alpha1:', predicted_dict['alpha1'])\n",
    "print('alpha2:', predicted_dict['alpha2'])\n",
    "print('betta1:', predicted_dict['betta1'])\n",
    "print('betta_temp:', predicted_dict['betta_temp'])\n",
    "print('x:', predicted_dict['x'])\n",
    "print('alpha2:', predicted_dict['alpha2'])\n",
    "print('betta2:', predicted_dict['betta2'])\n",
    "print()\n",
    "print('random_swap:', fact_dict['random_swap'])\n",
    "print('swap_counter:', fact_dict['swap_counter'])\n",
    "print('outgoing_error:', fact_dict['outgoing_error'])\n",
    "print('ingoing_error:', fact_dict['ingoing_error'])\n",
    "print()\n",
    "print('f_val1:', sum(predicted_dict['f_val1']))\n",
    "print('f_val2:', sum(predicted_dict['f_val2']))\n",
    "print('number of edges:', fact_dict['G'].number_of_edges())\n",
    "\"\"\"\n",
    "plt.xlim((0, num_of_nodes))\n",
    "plt.ylim((0, num_of_nodes))\n",
    "plt.plot(predicted_dict['f_val1'], color='grey', linestyle='--')\n",
    "plt.plot(predicted_dict['f_val2'], color='black', linestyle='--')\n",
    "plt.plot(fact_dict['outgoing_deg'], color='grey')\n",
    "plt.plot(fact_dict['ingoing_deg'], color='black')\n",
    "#plt.legend(['Outgoing degrees (pred)', 'Incoming degrees (pred)', 'Outgoing degrees (fact)', 'Incoming degrees (fact)'])"
   ]
  },
  {
   "cell_type": "markdown",
   "metadata": {},
   "source": [
    "# Building distribution"
   ]
  },
  {
   "cell_type": "code",
   "execution_count": 17,
   "metadata": {},
   "outputs": [
    {
     "name": "stdout",
     "output_type": "stream",
     "text": [
      "Number of nodes: 100\n",
      "0\n",
      "100\n",
      "200\n",
      "300\n",
      "400\n",
      "500\n",
      "600\n",
      "700\n",
      "800\n",
      "900\n",
      "1000\n",
      "1100\n",
      "1200\n",
      "1300\n",
      "1400\n",
      "1500\n",
      "1600\n",
      "1700\n",
      "1800\n",
      "1900\n",
      "Done!\n",
      "Wall time: 5min 23s\n"
     ]
    }
   ],
   "source": [
    "%%time\n",
    "graphs_dict = {}\n",
    "\n",
    "num_of_nodes = 100\n",
    "\n",
    "def get_edges_density(num_of_nodes, num_of_edges):\n",
    "    return num_of_edges / (num_of_nodes * (num_of_nodes - 1))\n",
    "\n",
    "def get_area_density(error_area, under_curve_area):\n",
    "    return error_area / under_curve_area\n",
    "\n",
    "alpha1_list = []\n",
    "alpha2_list = []\n",
    "betta1_list = []\n",
    "betta2_list = []\n",
    "\n",
    "out_error_list = []\n",
    "in_error_list = []\n",
    "swap_counter_list = []\n",
    "num_of_edges_list = []\n",
    "\n",
    "edge_density_list = []\n",
    "area_density_list = []\n",
    "area_error_list = []\n",
    "area_outgoing_density_list = []\n",
    "area_ingoing_density_list = []\n",
    "\n",
    "x_list = []\n",
    "\n",
    "alpha_check_list = []\n",
    "\n",
    "num_of_nodes_list = [100]\n",
    "num_of_experiments = 2000\n",
    "\n",
    "alpha1 = -1000\n",
    "alpha2 = -1000\n",
    "betta1 = -1000\n",
    "betta1_packet = []\n",
    "\n",
    "for num_of_nodes in num_of_nodes_list:\n",
    "    print('Number of nodes:', num_of_nodes)\n",
    "    for i in range(num_of_experiments):\n",
    "        if i % 100 == 0:\n",
    "            print(i)\n",
    "        \n",
    "        while 1==1:\n",
    "            predicted_dict = get_predicted(num_of_nodes, alpha1, alpha2, betta1, betta1_packet)\n",
    "            fact_dict = get_fact(predicted_dict, num_of_nodes)\n",
    "\n",
    "            graphs_dict[i] = {}\n",
    "            graphs_dict[i]['predicted'] = predicted_dict\n",
    "            graphs_dict[i]['fact'] = fact_dict\n",
    "            \n",
    "            if fact_dict['G'].number_of_nodes() == num_of_nodes:\n",
    "                break\n",
    "        alpha1_list.append(predicted_dict['alpha1'])\n",
    "        alpha2_list.append(predicted_dict['alpha2'])\n",
    "        betta1_list.append(predicted_dict['betta1'])\n",
    "        betta2_list.append(predicted_dict['betta2'])\n",
    "        \n",
    "        x_list.append(predicted_dict['x'])\n",
    "        \n",
    "        in_error_list.append(fact_dict['ingoing_error'])\n",
    "        out_error_list.append(fact_dict['outgoing_error'])\n",
    "        num_of_edges_list.append(fact_dict['num_of_edges'])\n",
    "        swap_counter_list.append(fact_dict['swap_counter'])\n",
    "        \n",
    "        if (predicted_dict['alpha1'] >= (math.pi / 4)) and (predicted_dict['alpha2'] >= (math.pi / 4)):\n",
    "            alpha_check_list.append(1)\n",
    "        elif (predicted_dict['alpha1'] < (math.pi / 4)) and (predicted_dict['alpha2'] >= (math.pi / 4)):\n",
    "            alpha_check_list.append(2)\n",
    "        elif (predicted_dict['alpha1'] < (math.pi / 4)) and (predicted_dict['alpha2'] < (math.pi / 4)):\n",
    "            alpha_check_list.append(3)\n",
    "        elif (predicted_dict['alpha1'] >= (math.pi / 4)) and (predicted_dict['alpha2'] < (math.pi / 4)):\n",
    "            alpha_check_list.append(4)\n",
    "\n",
    "        edge_density_list.append(get_edges_density(num_of_nodes, fact_dict['num_of_edges']))\n",
    "        area_density_list.append(get_area_density(fact_dict['ingoing_error'] + fact_dict['outgoing_error'],\\\n",
    "                                                  fact_dict['num_of_edges']))\n",
    "        area_error_list.append(get_area_density(0.5 * (fact_dict['ingoing_error'] + fact_dict['outgoing_error']),\\\n",
    "                                                 fact_dict['G'].number_of_nodes() * (fact_dict['G'].number_of_nodes() - 1)))\n",
    "\n",
    "print('Done!')"
   ]
  },
  {
   "cell_type": "code",
   "execution_count": 19,
   "metadata": {},
   "outputs": [],
   "source": [
    "area_density_list_1_x0 = []\n",
    "edge_density_list_1_x0 = []\n",
    "area_density_list_2_x0 = []\n",
    "edge_density_list_2_x0 = []\n",
    "area_density_list_3_x0 = []\n",
    "edge_density_list_3_x0 = []\n",
    "area_density_list_4_x0 = []\n",
    "edge_density_list_4_x0 = []\n",
    "\n",
    "area_density_list_1_x1 = []\n",
    "edge_density_list_1_x1 = []\n",
    "area_density_list_2_x1 = []\n",
    "edge_density_list_2_x1 = []\n",
    "area_density_list_3_x1 = []\n",
    "edge_density_list_3_x1 = []\n",
    "area_density_list_4_x1 = []\n",
    "edge_density_list_4_x1 = []\n",
    "\n",
    "for i in range(len(alpha_check_list)):\n",
    "    if x_list[i] == 0:\n",
    "        if alpha_check_list[i] == 1:\n",
    "            #area_density_list_1.append(area_ingoing_density_list[i])\n",
    "            area_density_list_1_x0.append(area_error_list[i])\n",
    "            edge_density_list_1_x0.append(edge_density_list[i])\n",
    "        elif alpha_check_list[i] == 2:\n",
    "            #area_density_list_2.append(area_ingoing_density_list[i])\n",
    "            area_density_list_2_x0.append(area_error_list[i])\n",
    "            edge_density_list_2_x0.append(edge_density_list[i])\n",
    "        elif alpha_check_list[i] == 3:\n",
    "            #area_density_list_3.append(area_ingoing_density_list[i])\n",
    "            area_density_list_3_x0.append(area_error_list[i])\n",
    "            edge_density_list_3_x0.append(edge_density_list[i])\n",
    "        elif alpha_check_list[i] == 4:\n",
    "            #area_density_list_4.append(area_ingoing_density_list[i])\n",
    "            area_density_list_4_x0.append(area_error_list[i])\n",
    "            edge_density_list_4_x0.append(edge_density_list[i])\n",
    "    else:\n",
    "        if alpha_check_list[i] == 1:\n",
    "            area_density_list_1_x1.append(area_error_list[i])\n",
    "            edge_density_list_1_x1.append(edge_density_list[i])\n",
    "        elif alpha_check_list[i] == 2:\n",
    "            area_density_list_2_x1.append(area_error_list[i])\n",
    "            edge_density_list_2_x1.append(edge_density_list[i])\n",
    "        elif alpha_check_list[i] == 3:\n",
    "            area_density_list_3_x1.append(area_error_list[i])\n",
    "            edge_density_list_3_x1.append(edge_density_list[i])\n",
    "        elif alpha_check_list[i] == 4:\n",
    "            area_density_list_4_x1.append(area_error_list[i])\n",
    "            edge_density_list_4_x1.append(edge_density_list[i])"
   ]
  },
  {
   "cell_type": "code",
   "execution_count": 20,
   "metadata": {},
   "outputs": [
    {
     "data": {
      "image/png": "[encoded data removed]",
      "text/plain": [
       "<matplotlib.figure.Figure at 0x1f9de535470>"
      ]
     },
     "metadata": {},
     "output_type": "display_data"
    }
   ],
   "source": [
    "plt.rcParams['font.size'] = 10\n",
    "plt.rcParams['font.family'] = 'times new roman'\n",
    "\n",
    "plt.scatter(edge_density_list_1_x1, area_density_list_1_x1, color='black', marker='^')\n",
    "plt.scatter(edge_density_list_2_x1, area_density_list_2_x1, color=(0.5,0.5,0.5), marker='s', facecolor='none')\n",
    "plt.scatter(edge_density_list_3_x1, area_density_list_3_x1, color='black', marker='o')\n",
    "plt.scatter(edge_density_list_4_x1, area_density_list_4_x1, color=(0.5,0.5,0.5), marker='x')\n",
    "plt.legend([r'$\\alpha_1 > \\pi / 4, \\alpha_2 > \\pi / 4$',\\\n",
    "            r'$\\alpha_1 < \\pi / 4, \\alpha_2 > \\pi / 4$',\\\n",
    "            r'$\\alpha_1 < \\pi / 4, \\alpha_2 < \\pi / 4$',\\\n",
    "            r'$\\alpha_1 > \\pi / 4, \\alpha_2 < \\pi / 4$'],\n",
    "           loc='upper center', ncol=2, bbox_to_anchor=(0.5, 1.1), fancybox=True, shadow=True)\n",
    "\n",
    "#plt.title(r'$\\alpha_2 < \\pi / 4$')\n",
    "#plt.savefig(fname=\"Dropbox/Мои статьи/2019/Вестник ЮУрГУ/fig/fig_7/beta1_OX.pdf\", dpi=500, format='pdf')\n",
    "plt.show()"
   ]
  },
  {
   "cell_type": "code",
   "execution_count": 21,
   "metadata": {},
   "outputs": [
    {
     "data": {
      "image/png": "[encoded data removed]",
      "text/plain": [
       "<matplotlib.figure.Figure at 0x1f9bb1af240>"
      ]
     },
     "metadata": {},
     "output_type": "display_data"
    }
   ],
   "source": [
    "plt.rcParams['font.size'] = 10\n",
    "plt.rcParams['font.family'] = 'times new roman'\n",
    "\n",
    "plt.scatter(edge_density_list_1_x0, area_density_list_1_x0, color='black', marker='^')\n",
    "plt.scatter(edge_density_list_2_x0, area_density_list_2_x0, color=(0.5,0.5,0.5), marker='s', facecolor='none')\n",
    "plt.scatter(edge_density_list_3_x0, area_density_list_3_x0, color='black', marker='o')\n",
    "plt.scatter(edge_density_list_4_x0, area_density_list_4_x0, color=(0.5,0.5,0.5), marker='x')\n",
    "plt.legend([r'$\\alpha_1 > \\pi / 4, \\alpha_2 > \\pi / 4$',\\\n",
    "            r'$\\alpha_1 < \\pi / 4, \\alpha_2 > \\pi / 4$',\\\n",
    "            r'$\\alpha_1 < \\pi / 4, \\alpha_2 < \\pi / 4$',\\\n",
    "            r'$\\alpha_1 > \\pi / 4, \\alpha_2 < \\pi / 4$'],\n",
    "           loc='upper center', ncol=2, bbox_to_anchor=(0.5, 1.1), fancybox=True, shadow=True)\n",
    "\n",
    "#plt.title(r'$\\alpha_2 < \\pi / 4$')\n",
    "#plt.savefig(fname=\"Dropbox/Мои статьи/2019/Вестник ЮУрГУ/fig/fig_7/beta1_OY.pdf\", dpi=500, format='pdf')\n",
    "plt.show()"
   ]
  },
  {
   "cell_type": "code",
   "execution_count": null,
   "metadata": {},
   "outputs": [],
   "source": []
  }
 ],
 "metadata": {
  "kernelspec": {
   "display_name": "Python 3",
   "language": "python",
   "name": "python3"
  },
  "language_info": {
   "codemirror_mode": {
    "name": "ipython",
    "version": 3
   },
   "file_extension": ".py",
   "mimetype": "text/x-python",
   "name": "python",
   "nbconvert_exporter": "python",
   "pygments_lexer": "ipython3",
   "version": "3.6.4"
  }
 },
 "nbformat": 4,
 "nbformat_minor": 2
}
