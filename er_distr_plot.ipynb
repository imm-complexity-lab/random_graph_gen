{
 "cells": [
  {
   "cell_type": "code",
   "execution_count": null,
   "metadata": {},
   "outputs": [],
   "source": [
    "import networkx as nx\n",
    "import random\n",
    "from matplotlib import pyplot as plt\n",
    "%matplotlib inline"
   ]
  },
  {
   "cell_type": "code",
   "execution_count": null,
   "metadata": {},
   "outputs": [],
   "source": [
    "%%time\n",
    "all_distr_list = []\n",
    "num_of_exp = 100\n",
    "num_of_nodes = 100\n",
    "for i in range(num_of_exp):\n",
    "    G = nx.erdos_renyi_graph(num_of_nodes, random.random(), directed=False)\n",
    "    degrees_list = [G.degree(node) for node in G.nodes()]\n",
    "    degrees_list.sort()\n",
    "    all_distr_list.append(degrees_list)\n",
    "    if i % 10 == 0:\n",
    "        print(i, 'graphs build')"
   ]
  },
  {
   "cell_type": "code",
   "execution_count": null,
   "metadata": {},
   "outputs": [],
   "source": [
    "#plt.rcParams['font.size'] = 24\n",
    "#plt.rcParams['font.family'] = 'times new roman'"
   ]
  },
  {
   "cell_type": "code",
   "execution_count": null,
   "metadata": {
    "scrolled": false
   },
   "outputs": [],
   "source": [
    "fig = plt.figure(figsize=(9,6))\n",
    "for i in range(num_of_exp):\n",
    "    plt.plot(all_distr_list[i])\n",
    "\n",
    "plt.xlim(left=-1, right=num_of_nodes)\n",
    "plt.ylim(bottom=-1, top=num_of_nodes)\n",
    "plt.xlabel('Nodes')\n",
    "plt.ylabel('Degrees')\n",
    "#plt.savefig('pics/er_deg_distr.pdf',dpi=300)\n",
    "plt.show(fig)"
   ]
  },
  {
   "cell_type": "code",
   "execution_count": null,
   "metadata": {},
   "outputs": [],
   "source": []
  }
 ],
 "metadata": {
  "kernelspec": {
   "display_name": "Python 3",
   "language": "python",
   "name": "python3"
  },
  "language_info": {
   "codemirror_mode": {
    "name": "ipython",
    "version": 3
   },
   "file_extension": ".py",
   "mimetype": "text/x-python",
   "name": "python",
   "nbconvert_exporter": "python",
   "pygments_lexer": "ipython3",
   "version": "3.8.5"
  }
 },
 "nbformat": 4,
 "nbformat_minor": 4
}
